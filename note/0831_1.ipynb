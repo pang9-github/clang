{
 "cells": [
  {
   "cell_type": "markdown",
   "metadata": {},
   "source": [
    "연산자\n",
    "1. 산술 연산자\n",
    "   + +, -, *, /, % "
   ]
  }
 ],
 "metadata": {
  "language_info": {
   "name": "python"
  }
 },
 "nbformat": 4,
 "nbformat_minor": 2
}
