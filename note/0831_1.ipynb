{
 "cells": [
  {
   "cell_type": "markdown",
   "metadata": {},
   "source": [
    "연산자\n",
    "1. 산술 연산자\n",
    "   + +, -, *, /, %\n",
    "2. 대입연산자\n",
    "   + 연산자 오른쪽에 있는 값을 왼쪽에 있는 변수에 대입\n",
    "   * +=, -=, *=, /=, %=\n",
    "3. 비교연산자\n",
    "   + \\>    : 크다\n",
    "   + \\>=   : 크거나 같다\n",
    "   + <     : 작다\n",
    "   + <=    : 작거나 같다\n",
    "   + ==    : 같다\n",
    "   + !=    : 다르다 "
   ]
  },
  {
   "cell_type": "code",
   "execution_count": null,
   "metadata": {
    "vscode": {
     "languageId": "c"
    }
   },
   "outputs": [],
   "source": [
    "#include  <stdio.h>\n",
    "int main()\n",
    "{\n",
    "    // 산술연산자\n",
    "    printf(\"산술연산자\\n\");\n",
    "\n",
    "    int n1 = 7,n2 = 3;\n",
    "    printf(\"%d+%d=%d\\n\",n1,n2,n1+n2);\n",
    "    printf(\"%d-%d=%d\\n\",n1,n2,n1-n2);\n",
    "    printf(\"%d*%d=%d\\n\",n1,n2,n1*n2);\n",
    "    printf(\"%d/%d=%d\\n\",n1,n2,n1/n2);\n",
    "    printf(\"%d%%%d=%d\\n\",n1,n2,n1%n2);\n",
    "    printf(\"\\n\");\n",
    "\n",
    "    printf(\"대입연산자\\n\");\n",
    "\n",
    "    int n3 =3, n4 = 4;\n",
    "    n3 += 3;    // n3 = n3 +3\n",
    "    n4 *= 4;    // n4 = n4*4\n",
    "    printf(\"num3 += 3의 결과: %d\\n\",n3);\n",
    "    printf(\"num4 *= 4의 결과: %d\\n\",n4);\n",
    "\n",
    "    int a =10, b =11;\n",
    "\n",
    "    printf(\"a>b: %d\\n\", a>b);\n",
    "    printf(\"a==b: %d\\n\",a==b);\n",
    "    printf(\"a<b: %d\\n\", a<b);\n",
    "    printf(\"a>=b: %d\\n\",a>=b);\n",
    "    printf(\"a<+b: %d\\n\", a<+b);\n",
    "    printf(\"a!=b: %d\\n\",a!=b);\n",
    "    return 0;\n",
    "}"
   ]
  }
 ],
 "metadata": {
  "language_info": {
   "name": "python"
  }
 },
 "nbformat": 4,
 "nbformat_minor": 2
}
