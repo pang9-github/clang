{
 "cells": [
  {
   "cell_type": "markdown",
   "metadata": {},
   "source": [
    "#### hello world! 출력예시"
   ]
  },
  {
   "cell_type": "code",
   "execution_count": null,
   "metadata": {
    "vscode": {
     "languageId": "c"
    }
   },
   "outputs": [],
   "source": [
    "#include <stdio.h>\n",
    "\n",
    "int main(void)\n",
    "{\n",
    "    printf(\"hello world!\");\n",
    "\n",
    "    return 0;\n",
    "}"
   ]
  },
  {
   "cell_type": "markdown",
   "metadata": {},
   "source": [
    "### 주석다는법\n",
    "#### 한줄주석\n",
    "// 주석담을 내용\n",
    "#### 여러줄 주석\n",
    "/* 주석담을 \n",
    "    내용 */"
   ]
  },
  {
   "cell_type": "code",
   "execution_count": null,
   "metadata": {
    "vscode": {
     "languageId": "c"
    }
   },
   "outputs": [],
   "source": [
    "// 한줄주석입니다\n",
    "/* 여러줄 주석입니다\n",
    "    여러줄 쓸수있습니다.*/"
   ]
  },
  {
   "cell_type": "markdown",
   "metadata": {},
   "source": [
    "### 변수?\n",
    "메모리 공간에 붙여진 이름.\n",
    "\n",
    "c 프로그램에서 사용되는 모든 값을 메모리 공간에 저장\n",
    "\n",
    "메모리 공간에 이름을 붙여 접근(입력 수정 삭제) 가능하다.\n",
    "#### 변수 선언 및 초기화\n",
    "자료형 변수명 = 값;\n",
    "#### 변수명 규칙\n",
    "알파벳, 숫자, 언더바(_) 로만 구성\n",
    "숫자로 시작(x)"
   ]
  },
  {
   "cell_type": "code",
   "execution_count": null,
   "metadata": {
    "vscode": {
     "languageId": "c"
    }
   },
   "outputs": [],
   "source": [
    "#include <stdio.h>\n",
    "\n",
    "int main(void)\n",
    "{\n",
    "    int number1; // int(정수)형 변수 선언\n",
    "    int number2;\n",
    "    number1 = 1; // number1 변수에 1 값 대입\n",
    "    number2 = 2; // 초기화\n",
    "    int number3 = 3, number4 = 4; // 두 개의 int형 변수 한번에 선언!(과 동시 대입)\n",
    "    int number5 = 5; //선언 동시에 초기화(값 대입)\n",
    "    /*\n",
    "    VSCODE 단축키\n",
    "    Ctrl + c (복사)\n",
    "    Ctrl + v (붙여넣기)\n",
    "    Ctrl + Shift + k (줄삭)\n",
    "    */\n",
    "    printf(\"number1 = %d\\n\", number1);\n",
    "    printf(\"number2 = %d\\n\", number2);\n",
    "    printf(\"number3 = %d\\n\", number3);\n",
    "    printf(\"number4 = %d\\n\", number4);\n",
    "    printf(\"number5 = %d\\n\", number5);\n",
    "    // 사용가능 변수명\n",
    "    int num = 3;\n",
    "    int num7 = 7;\n",
    "    int num_ber =  10;\n",
    "    int Num = 15;\n",
    "    printf(\"num = %d\\n\", num);\n",
    "    printf(\"Num = %d\\n\", Num);\n",
    "    // 사용불가 변수명\n",
    "    \n",
    "    // int hello boy = 3;  // 공백 ㄴㄴ\n",
    "    // int he#$ = 5;       // 특수기호 ㄴㄴ\n",
    "    // int 8number = 8;    // 숫자로시작 ㄴㄴ\n",
    "    // int short = 9;      // 기능이 있는 키워드 ㄴㄴ\n",
    "    \n",
    "    return 0 ;\n",
    "}"
   ]
  }
 ],
 "metadata": {
  "language_info": {
   "name": "python"
  }
 },
 "nbformat": 4,
 "nbformat_minor": 2
}
