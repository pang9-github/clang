{
 "cells": [
  {
   "cell_type": "markdown",
   "metadata": {},
   "source": [
    "### 리터럴(literal)\n",
    "##### 값이 그자체로 고정된 상수를 의미\n",
    "- 예\n",
    "    - 정수형 상수 : 10, -10\n",
    "    - 실수형 상수 : 2.2, 3.14, -5.1\n",
    "    - 문자형 상수 : 'A','B','C'\n",
    "\n",
    "- 심블릭 상수(const)\n",
    "    + 상수에 이름을 붙인것 __<u>변경불가!</u>__\n",
    "\n",
    "    + 메크로 상수\n",
    "        - 심블릭 상수 일종\n",
    "        - 컴파일시 가장먼저 메크로 상수를 처리함"
   ]
  },
  {
   "cell_type": "code",
   "execution_count": null,
   "metadata": {
    "vscode": {
     "languageId": "c"
    }
   },
   "outputs": [],
   "source": [
    "#include <stdio.h>\n",
    "#define LENGTH 10 // 매크로 상수 정의에선 세미콜론 불필요\n",
    "\n",
    "int main(void)\n",
    "{\n",
    "    printf(\"LENGTH = %d\\n\",LENGTH);\n",
    "    int number = 3; // 일반변수\n",
    "    const int NUMBER = 5; // 심블릭 상수\n",
    "    number = 10;\n",
    "    // NUMBER = 11; // 컴파일에러:expression must be a modifiable lvalueC/C++(137),\n",
    "    // 상수는 값을 변경할수 없음!\n",
    "    return 0;\n",
    "}"
   ]
  }
 ],
 "metadata": {
  "language_info": {
   "name": "python"
  }
 },
 "nbformat": 4,
 "nbformat_minor": 2
}
