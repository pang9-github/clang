{
 "cells": [
  {
   "cell_type": "markdown",
   "metadata": {},
   "source": [
    "## 자료형\n",
    "- c언어 기본 자료형 종류\n",
    "    - 문자\n",
    "       + char    1byte -128~+127(아스키 코드)\n",
    "    - 정수\n",
    "       + short   2byte -32,768 ~ +32,767(약 -10⁵~10⁵)\n",
    "       + __<u>int     4byte -2147483648 ~ +2147483647(약 -10⁹~10⁹)(주로 사용)</u>__\n",
    "       + long    4~8byte - (운영체제에 따라 달라짐)\n",
    "       + long long   8byte 이상\n",
    "    - 실수\n",
    "       + float   4byte   소수점 6~9자리\n",
    "            *    (float 자료형은 숫자 뒤에 f를 붙인다.)\n",
    "       + __<u>double  8byte   소수점 14~17자리(주로 사용)</u>__\n",
    "       + long double 8byte 이상\n",
    "   - `(자료형:int, char, double 등)변환할수` 로 형변환 가능\n",
    "- sizeof 연산자\n",
    "   - 자료형의 크기를 변환한다."
   ]
  },
  {
   "cell_type": "code",
   "execution_count": null,
   "metadata": {
    "vscode": {
     "languageId": "c"
    }
   },
   "outputs": [],
   "source": [
    "\n",
    "#include <stdio.h>\n",
    "\n",
    "int main()\n",
    "{\n",
    "    char ch1 = 66, ch2 = 'B';\n",
    "    short sh1 = 67;\n",
    "    printf(\"ch1 = %c\\n\",ch1); // B\n",
    "    printf(\"ch2 = %c\\n\",ch2); // B\n",
    "    printf(\"sh1 = %c\\n\",sh1); // C\n",
    "    printf(\"sh1 = %d\\n\",sh1); // 67\n",
    "\n",
    "    int in1 = 68;\n",
    "    printf(\"in1 = %c\\n\",in1); // D\n",
    "    printf(\"in1 = %d\\n\",in1); // 68\n",
    "    float f1 = 3.14f;\n",
    "    printf(\"f1 = %f\\n\",f1); // 3.1400000\n",
    "\n",
    "    printf(\"size(100) = %d\\n\",sizeof(100));\n",
    "    printf(\"size(3.14) = %d\\n\",sizeof(3.14));\n",
    "\n",
    "    long ln1 = 2147483647;\n",
    "    printf(\"ln1 = %d\\n\",ln1); //2147483647\n",
    "    long ln2 = 2147483648; \n",
    "    printf(\"ln2 = %d\\n\",ln2); //-2147483648 운영체제에 따라 다를수 있음\n",
    "}"
   ]
  },
  {
   "cell_type": "code",
   "execution_count": null,
   "metadata": {
    "vscode": {
     "languageId": "c"
    }
   },
   "outputs": [],
   "source": [
    "int main()\n",
    "{\n",
    "    double num1 = 10;   // 실수로 저장\n",
    "    int num2 = 1.2345;  // 자동으로 정수로 변환\n",
    "    short num3 = 70000; // 범위외, overflow\n",
    "\n",
    "    printf(\"num1: %f\\n\",num1); // 10.000000\n",
    "    printf(\"num2: %d\\n\",num2); // 1\n",
    "    printf(\"num3: %d\\n\",num3); // 4464\n",
    "\n",
    "    printf(\"(short)3.1415: %d\\n\",(short)3.1415);\n",
    "    printf(\"(int)3.1415: %d\\n\",(int)3.1415); \n",
    "    printf(\"(double)10: %d\\n\",(double)10); \n",
    "    printf(\"(float)10: %d\\n\",(float)10); \n",
    "\n",
    "}"
   ]
  },
  {
   "cell_type": "markdown",
   "metadata": {},
   "source": [
    "### 참고\n",
    "\n",
    "\n",
    "#### 데이터 단위\n",
    "<img width=\"500\" src=\"https://img.samsungsemiconductor.com/kr/wp-content/uploads/2021/05/byte_words_20200710_02.jpeg\" alt=\"Prunus\" title=\"마크다운은 이미지의 크기를 지정할 수 없으므로, 크기 지정을 위해서는 <img> 태그를 사용해야 합니다.\">\n",
    "\n",
    "\n",
    "#### 자료형 크기\n",
    "| 자료형 | 크기(byte) | 범위 |\n",
    "|---|---|---|\n",
    "|char|1|-128 ~ 127|\n",
    "|unsigned char|1|0 ~ 255|\n",
    "|short|2|-32768 ~ 32767|\n",
    "|unsigned short|2|0 ~ 65535|\n",
    "|int|4|-2147483648 ~ 2147483647|\n",
    "|unsigned int|4|0 ~ 4294967295|\n",
    "|long|8|-9223372036854775808 ~ 9223372036854775807|\n",
    "|long long|8|-9223372036854775808 ~ 9223372036854775807|\n",
    "|float|4|1.175494e-38 ~ 3.402823e+38|\n",
    "|double|8|2.22507e-308 ~ 1.79769e+308|\n",
    "|long double|16|3.362103e-4932L ~ 1.189731e+4932L|\n",
    "\n",
    "#### ascii 코드표\n",
    "\n",
    "<img width=\"500\" src=\"https://mblogthumb-phinf.pstatic.net/20160211_209/ansdbtls4067_1455192707460IhXKg_JPEG/ASCII_Code_%C0%CF%B6%F7%C7%A5_-_%C0%DB%BC%BA%C0%DA_-_%B6%AB%BE%B2001.png?type=w800\" alt=\"Prunus\" title=\"마크다운은 이미지의 크기를 지정할 수 없으므로, 크기 지정을 위해서는 <img> 태그를 사용해야 합니다.\">"
   ]
  }
 ],
 "metadata": {
  "language_info": {
   "name": "python"
  }
 },
 "nbformat": 4,
 "nbformat_minor": 2
}
