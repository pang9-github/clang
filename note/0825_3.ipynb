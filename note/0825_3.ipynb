{
 "cells": [
  {
   "cell_type": "markdown",
   "metadata": {},
   "source": [
    "### printf() 함수\n",
    "##### 콘솔 화면에 문자열 출력함수 \n",
    "\n",
    "- 제어문자(이스케이프 문자) \\ 또는 원표시\n",
    "    +    \\t 탭(tab)\n",
    "    +    \\n 줄바꿈\n",
    "    +    \\b 한 칸 왼쪽으로 이동\n",
    "    +    \\r 맨 앞으로 이동\n",
    "    +    \\' 작은 따옴표\n",
    "    +    \\\" 큰 타옴표\n",
    "    +    \\? 물음표\n",
    "    +    \\\\ 백슬래시\n",
    "\n",
    "- 형식문자(서식문자)\n",
    "    +    %d : 부호있는 10진수\n",
    "    +    %u : 부호없는 10진수\n",
    "    +    %o : 부호없는 8진수\n",
    "    +    %x : 부호없는 16진수\n",
    "    +    %f : 10진수 방식의 부동소수점 실수(기본 소수점이하 6자리 표현)\n",
    "    +    %c : 값에 대응하는 문자\n",
    "    +    %s : 문자열\n",
    "    +    %p : 포인터 주소값\n",
    "    +    %% : %를 출력문자로"
   ]
  },
  {
   "cell_type": "code",
   "execution_count": null,
   "metadata": {
    "vscode": {
     "languageId": "c"
    }
   },
   "outputs": [],
   "source": []
  }
 ],
 "metadata": {
  "language_info": {
   "name": "python"
  }
 },
 "nbformat": 4,
 "nbformat_minor": 2
}
