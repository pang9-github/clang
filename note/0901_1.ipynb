{
 "cells": [
  {
   "cell_type": "markdown",
   "metadata": {},
   "source": [
    "### 논리 연산자\n",
    "&& (AND) : 피연산자가 모두 참이면 참  \n",
    "|| (OR) : 피연산자중 참이 있으면 참  \n",
    "! (NOR) : 피연산자가 참이면 거짓, 거짓이면 참  \n",
    "__1 = True, 0 = false__"
   ]
  },
  {
   "cell_type": "code",
   "execution_count": null,
   "metadata": {
    "vscode": {
     "languageId": "c"
    }
   },
   "outputs": [],
   "source": [
    "/*\n",
    "4. 논리 연산자\n",
    "    && (AND) : 피연산자가 모두 참이면 참\n",
    "    || (OR) : 피연산자중 참이 있으면 참\n",
    "    ! (NOR) : 피연산자가 참이면 거짓, 거짓이면 참\n",
    "    1 = True, 0 = false\n",
    "*/\n",
    "\n",
    "# include <stdio.h>\n",
    "int main()\n",
    "{\n",
    "    printf(\"논리연산자\\n\");\n",
    "    \n",
    "    int n1=20,n2=10;\n",
    "    int result1, result2, result3,result4;\n",
    "    \n",
    "    result1= 1 && 1;\n",
    "    result2 = n1 == 20 && n2 == 10;\n",
    "    result3 = n1 > n2 || n1 ==n2;\n",
    "    result4 = !(n1>n2||n1==n2);\n",
    "\n",
    "    printf(\"1) result: %d\\n\", result1);\n",
    "    printf(\"2) result: %d\\n\",result2);\n",
    "    printf(\"3) result: %d\\n\",result3);\n",
    "    printf(\"4) result: %d\\n\",result4);\n",
    "    return 0;\n",
    "}"
   ]
  }
 ],
 "metadata": {
  "language_info": {
   "name": "python"
  }
 },
 "nbformat": 4,
 "nbformat_minor": 2
}
